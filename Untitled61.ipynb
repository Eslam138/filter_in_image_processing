{
  "nbformat": 4,
  "nbformat_minor": 0,
  "metadata": {
    "colab": {
      "name": "Untitled61.ipynb",
      "private_outputs": true,
      "provenance": [],
      "collapsed_sections": []
    },
    "kernelspec": {
      "name": "python3",
      "display_name": "Python 3"
    },
    "language_info": {
      "name": "python"
    }
  },
  "cells": [
    {
      "cell_type": "code",
      "execution_count": null,
      "metadata": {
        "id": "VCdgH_hOgYvW"
      },
      "outputs": [],
      "source": [
        "image_without_salt = cv2.imread('/content/colorlena-300x300.jpg', 0)\n",
        "import matplotlib.pyplot as plt\n",
        "plt.subplot(122), plt.imshow(image_without_salt , cmap='gray')"
      ]
    },
    {
      "cell_type": "code",
      "source": [
        "import random\n",
        "import cv2\n",
        "\n",
        "def add_noise(img):\n",
        "\n",
        "\t# Getting the dimensions of the image\n",
        "\trow , col = img.shape\n",
        "\t# Pick a random number between 300 and 10000\n",
        "\tnumber_of_pixels = random.randint(300, 10000)\n",
        "\tfor i in range(number_of_pixels):\n",
        "\t\ty_coord=random.randint(0, row - 1)\n",
        "\t\tx_coord=random.randint(0, col - 1)\n",
        "\t\timg[y_coord][x_coord] = 255\n",
        "\t# Pick a random number between 300 and 10000\n",
        "\tnumber_of_pixels = random.randint(300 , 10000)\n",
        "\tfor i in range(number_of_pixels):\n",
        "\t\ty_coord=random.randint(0, row - 1)\n",
        "\t\tx_coord=random.randint(0, col - 1)\n",
        "\t\timg[y_coord][x_coord] = 0\n",
        "\t\t\n",
        "\treturn img\n",
        "# Reading the color image in grayscale image\n",
        "img = cv2.imread('/content/colorlena-300x300.jpg',\n",
        "\t\t\t\tcv2.IMREAD_GRAYSCALE)\n",
        "#Storing the image\n",
        "cv2.imwrite('salt-and-pepper-lena.jpg',\n",
        "\t\t\tadd_noise(img))\n"
      ],
      "metadata": {
        "id": "1ctKE7yIVcdM"
      },
      "execution_count": null,
      "outputs": []
    },
    {
      "cell_type": "code",
      "source": [
        "import cv2\n",
        "import numpy as np\n",
        "from PIL import Image\n",
        "img = cv2.imread('/content/salt-and-pepper-lena.jpg', 0)\n",
        "import matplotlib.pyplot as plt\n",
        "plt.subplot(122), plt.imshow(img , cmap='gray')\n",
        "\n",
        "# Obtain number of rows and columns of the image\n",
        "m, n = img.shape\n",
        "\n",
        "# Develop Averaging filter(3, 3) mask\n",
        "mask = np.ones([3, 3], dtype = int)\n",
        "mask = mask / 9\n",
        "# Convolve the 3X3 mask over the image\n",
        "img_new = np.zeros([m, n])\n",
        "\n",
        "for i in range(1, m-1):\n",
        "\tfor j in range(1, n-1):\n",
        "\t\ttemp = img[i-1, j-1]*mask[0, 0]+img[i-1, j]*mask[0, 1]+img[i-1, j + 1]*mask[0, 2]+img[i, j-1]*mask[1, 0]+ img[i, j]*mask[1, 1]+img[i, j + 1]*mask[1, 2]+img[i + 1, j-1]*mask[2, 0]+img[i + 1, j]*mask[2, 1]+img[i + 1, j + 1]*mask[2, 2]\n",
        "\t\t\n",
        "\t\timg_new[i, j]= temp\n",
        "\t\t\n",
        "img_new = img_new.astype(np.uint8)\n",
        "cv2.imwrite('blurred.tif.jpg', img_new)"
      ],
      "metadata": {
        "id": "_YWIysu8UBXQ"
      },
      "execution_count": null,
      "outputs": []
    },
    {
      "cell_type": "code",
      "source": [
        "import matplotlib.pyplot as plt\n",
        "img1 = cv2.imread('/content/blurred.tif.jpg', 0)\n",
        "plt.subplot(122), plt.imshow(img1, cmap='gray')"
      ],
      "metadata": {
        "id": "buD-xCfMg8Uv"
      },
      "execution_count": null,
      "outputs": []
    },
    {
      "cell_type": "code",
      "source": [
        "# Median Filtering\n",
        "import cv2\n",
        "import numpy as np\n",
        "# Read the image\n",
        "img_noisy1 =  cv2.imread('/content/salt-and-pepper-lena.jpg', 0)\n",
        "# Obtain the number of rows and column of the image\n",
        "m, n = img_noisy1.shape\n",
        "img_new1 = np.zeros([m, n])\n",
        "\n",
        "for i in range(1, m-1):\n",
        "\tfor j in range(1, n-1):\n",
        "\t\ttemp = [img_noisy1[i-1, j-1],\n",
        "\t\t\timg_noisy1[i-1, j],\n",
        "\t\t\timg_noisy1[i-1, j + 1],\n",
        "\t\t\timg_noisy1[i, j-1],\n",
        "\t\t\timg_noisy1[i, j],\n",
        "\t\t\timg_noisy1[i, j + 1],\n",
        "\t\t\timg_noisy1[i + 1, j-1],\n",
        "\t\t\timg_noisy1[i + 1, j],\n",
        "\t\t\timg_noisy1[i + 1, j + 1]]\n",
        "\t\ttemp = sorted(temp)\n",
        "\t\timg_new1[i, j]= temp[4]\n",
        "\n",
        "img_new1 = img_new1.astype(np.uint8)\n",
        "cv2.imwrite('new_median_filtered.png', img_new1)\n"
      ],
      "metadata": {
        "id": "tJmWoaUNseX_"
      },
      "execution_count": null,
      "outputs": []
    },
    {
      "cell_type": "code",
      "source": [
        "plt.subplot(122), plt.imshow(img_new1, cmap='gray')"
      ],
      "metadata": {
        "id": "Ok1krQxRweDy"
      },
      "execution_count": null,
      "outputs": []
    },
    {
      "cell_type": "code",
      "source": [
        "from PIL import Image, ImageFilter\n",
        "   \n",
        "# creating a image object\n",
        "im1 = Image.open(r\"/content/salt-and-pepper-lena.jpg\")\n",
        "   \n",
        "# applying the min filter\n",
        "im2 = im1.filter(ImageFilter.MinFilter(size = 3))\n",
        "   \n",
        "plt.subplot(122), plt.imshow(im2, cmap='gray')"
      ],
      "metadata": {
        "id": "9I3NiJkqwngR"
      },
      "execution_count": null,
      "outputs": []
    },
    {
      "cell_type": "code",
      "source": [
        "# Importing Image and ImageFilter module from PIL package\n",
        "from PIL import Image, ImageFilter\n",
        "\n",
        "# creating a image object\n",
        "im1 = Image.open(r\"/content/salt-and-pepper-lena.jpg\")\n",
        "\n",
        "# applying the max filter\n",
        "im2 = im1.filter(ImageFilter.MaxFilter(size = 3))\n",
        "\n",
        "plt.subplot(122), plt.imshow(im2, cmap='gray')"
      ],
      "metadata": {
        "id": "ZusxcPB8Y9iP"
      },
      "execution_count": null,
      "outputs": []
    },
    {
      "cell_type": "code",
      "source": [
        "from PIL import Image, ImageFilter \n",
        "     \n",
        "# creating a image object \n",
        "im1 = Image.open(r\"/content/salt-and-pepper-lena.jpg\") \n",
        "     \n",
        "# applying the rank filter \n",
        "im2 = im1.filter(ImageFilter.RankFilter(size = 3, rank = 0)) \n",
        "     \n",
        "plt.subplot(122), plt.imshow(im2, cmap='gray')"
      ],
      "metadata": {
        "id": "f7FfXGlGk7Gi"
      },
      "execution_count": null,
      "outputs": []
    },
    {
      "cell_type": "code",
      "source": [
        "from PIL import Image, ImageFilter \n",
        "     \n",
        "# creating a image object \n",
        "im1 = Image.open(r\"/content/salt-and-pepper-lena.jpg\") \n",
        "     \n",
        "# applying the rank filter \n",
        "im2 = im1.filter(ImageFilter.RankFilter(size = 3, rank = 1)) \n",
        "     \n",
        "plt.subplot(122), plt.imshow(im2, cmap='gray')"
      ],
      "metadata": {
        "id": "nOyIFHDBlJmw"
      },
      "execution_count": null,
      "outputs": []
    },
    {
      "cell_type": "code",
      "source": [
        "from PIL import Image, ImageFilter \n",
        "     \n",
        "# creating a image object \n",
        "im1 = Image.open(r\"/content/salt-and-pepper-lena.jpg\") \n",
        "     \n",
        "# applying the rank filter \n",
        "im2 = im1.filter(ImageFilter.RankFilter(size = 3, rank = 2)) \n",
        "     \n",
        "plt.subplot(122), plt.imshow(im2, cmap='gray')"
      ],
      "metadata": {
        "id": "mQzY8mFmlN_u"
      },
      "execution_count": null,
      "outputs": []
    },
    {
      "cell_type": "code",
      "source": [
        "from PIL import Image, ImageFilter \n",
        "     \n",
        "# creating a image object \n",
        "im1 = Image.open(r\"/content/salt-and-pepper-lena.jpg\") \n",
        "     \n",
        "# applying the rank filter \n",
        "im2 = im1.filter(ImageFilter.RankFilter(size = 3, rank = 3)) \n",
        "     \n",
        "plt.subplot(122), plt.imshow(im2, cmap='gray')"
      ],
      "metadata": {
        "id": "ue-u8zbclQ44"
      },
      "execution_count": null,
      "outputs": []
    },
    {
      "cell_type": "code",
      "source": [
        "from PIL import Image, ImageFilter \n",
        "     \n",
        "# creating a image object \n",
        "im1 = Image.open(r\"/content/salt-and-pepper-lena.jpg\") \n",
        "     \n",
        "# applying the rank filter \n",
        "im2 = im1.filter(ImageFilter.RankFilter(size = 3, rank = 4)) \n",
        "     \n",
        "plt.subplot(122), plt.imshow(im2, cmap='gray')"
      ],
      "metadata": {
        "id": "k4jx2LcLldXK"
      },
      "execution_count": null,
      "outputs": []
    },
    {
      "cell_type": "code",
      "source": [
        "from PIL import Image, ImageFilter \n",
        "     \n",
        "# creating a image object \n",
        "im1 = Image.open(r\"/content/salt-and-pepper-lena.jpg\") \n",
        "     \n",
        "# applying the rank filter \n",
        "im2 = im1.filter(ImageFilter.RankFilter(size = 3, rank = 5)) \n",
        "     \n",
        "plt.subplot(122), plt.imshow(im2, cmap='gray')"
      ],
      "metadata": {
        "id": "6HuxNpuSlhGT"
      },
      "execution_count": null,
      "outputs": []
    },
    {
      "cell_type": "code",
      "source": [
        "from PIL import Image, ImageFilter \n",
        "     \n",
        "# creating a image object \n",
        "im1 = Image.open(r\"/content/salt-and-pepper-lena.jpg\") \n",
        "     \n",
        "# applying the rank filter \n",
        "im2 = im1.filter(ImageFilter.RankFilter(size = 3, rank = 6)) \n",
        "     \n",
        "plt.subplot(122), plt.imshow(im2, cmap='gray')"
      ],
      "metadata": {
        "id": "B-0Xe9o_lkWc"
      },
      "execution_count": null,
      "outputs": []
    },
    {
      "cell_type": "code",
      "source": [
        "from PIL import Image, ImageFilter \n",
        "     \n",
        "# creating a image object \n",
        "im1 = Image.open(r\"/content/salt-and-pepper-lena.jpg\") \n",
        "     \n",
        "# applying the rank filter \n",
        "im2 = im1.filter(ImageFilter.RankFilter(size = 3, rank = 7)) \n",
        "     \n",
        "plt.subplot(122), plt.imshow(im2, cmap='gray')"
      ],
      "metadata": {
        "id": "M7kidlx4lnbD"
      },
      "execution_count": null,
      "outputs": []
    },
    {
      "cell_type": "code",
      "source": [
        "from PIL import Image, ImageFilter \n",
        "     \n",
        "# creating a image object \n",
        "im1 = Image.open(r\"/content/salt-and-pepper-lena.jpg\") \n",
        "     \n",
        "# applying the rank filter \n",
        "im2 = im1.filter(ImageFilter.RankFilter(size = 3, rank = 8)) \n",
        "     \n",
        "plt.subplot(122), plt.imshow(im2, cmap='gray')"
      ],
      "metadata": {
        "id": "JS0kqxgVlqsT"
      },
      "execution_count": null,
      "outputs": []
    },
    {
      "cell_type": "code",
      "source": [
        "#sharpening filters\n"
      ],
      "metadata": {
        "id": "2mLcl9obZP4v"
      },
      "execution_count": null,
      "outputs": []
    }
  ]
}